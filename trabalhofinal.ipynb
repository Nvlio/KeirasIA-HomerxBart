{
  "nbformat": 4,
  "nbformat_minor": 0,
  "metadata": {
    "colab": {
      "provenance": []
    },
    "kernelspec": {
      "name": "python3",
      "display_name": "Python 3"
    },
    "language_info": {
      "name": "python"
    }
  },
  "cells": [
    {
      "cell_type": "markdown",
      "source": [
        "#Trabalho Final de TI\n",
        "Disciplina: TÓPICOS EM TECNOLOGIA DA INFORMAÇÃO\n",
        "\n",
        "Professor: MÁRIO AUGUSTO PAZOTI\n",
        "\n",
        "Curso:Engenhária de software\n",
        "\n",
        "\n",
        "___\n",
        "\n",
        "Aluno:\n",
        "---\n",
        "Nome: João Gabriel Caires fernandes\n",
        "\n",
        "RA:9332111030\n"
      ],
      "metadata": {
        "id": "ws8R91eE4G9A"
      }
    },
    {
      "cell_type": "markdown",
      "source": [
        "Separei os exercícios para cada abordagem, seguindo da primeira abordagem para a segunda com o fim sendo o comentário sobre ambas as abordagens assim como seus prós e contras."
      ],
      "metadata": {
        "id": "xvj3SxOs5JRP"
      }
    },
    {
      "cell_type": "markdown",
      "source": [
        "1 exercicio\n",
        "\n",
        "\n",
        "---\n",
        "\n",
        "\n",
        "\n",
        "1.   Abordagem por Imagens\n",
        "\n",
        "     A abordagem por imagem, contem apenas as imagens dos personagens dividido em imagens para treinar e imagens para testar, com isso você deixa o trabalho de encontrar a diferença entre os personagens para a I.A. que por meio das tecnicas para lidar com imagens vai encontrar a diferença entre ambos.\n",
        "     \n",
        "\n",
        "2.   Abordagem por texto\n",
        "\n",
        "    Já a abordagem por texto você já dá o resultado de cada valor e passa a resposta, deixando para a I.A. apenas verificar os valores para cada parametro e entender o que diferencia cada personagem, pulando o trabalho que ela teria de filtrar e ir diminuindo a imagem até conseguir encontrar os dados por si mesma.\n",
        "\n"
      ],
      "metadata": {
        "id": "Ug5tyebv4PUA"
      }
    },
    {
      "cell_type": "markdown",
      "source": [
        "#I.A. para processar a primeira abordagem"
      ],
      "metadata": {
        "id": "ksL3gBs56QD3"
      }
    },
    {
      "cell_type": "markdown",
      "source": [
        "Importar itens necessários"
      ],
      "metadata": {
        "id": "2kJBUUCoR1fm"
      }
    },
    {
      "cell_type": "code",
      "execution_count": null,
      "metadata": {
        "id": "BpzS1fBB4F1W"
      },
      "outputs": [],
      "source": [
        "import pandas as pd\n",
        "import csv\n",
        "import numpy as np\n",
        "from sklearn.utils import shuffle\n",
        "from sklearn.preprocessing import MinMaxScaler\n",
        "from sklearn.model_selection import train_test_split\n",
        "from sklearn.preprocessing import LabelEncoder as le\n",
        "from sklearn.metrics import confusion_matrix\n",
        "import seaborn as sns\n",
        "import matplotlib.pyplot as plt"
      ]
    },
    {
      "cell_type": "markdown",
      "source": [
        "Importar itens para a I.A."
      ],
      "metadata": {
        "id": "mzyQ3UAMRs3-"
      }
    },
    {
      "cell_type": "code",
      "source": [
        "import tensorflow as tf\n",
        "from tensorflow import keras\n",
        "from tensorflow.keras.models import Sequential\n",
        "from tensorflow.keras.layers import Activation, Dense\n",
        "from tensorflow.keras.optimizers import Adam\n",
        "from tensorflow.keras.metrics import categorical_crossentropy\n",
        "from tensorflow.keras.utils import to_categorical\n"
      ],
      "metadata": {
        "id": "AhP9UVkUBwb7"
      },
      "execution_count": null,
      "outputs": []
    },
    {
      "cell_type": "markdown",
      "source": [
        "Separação dos dados da tabela"
      ],
      "metadata": {
        "id": "Nx6ZVR1Q_lr0"
      }
    },
    {
      "cell_type": "code",
      "source": [
        "dados = open('/content/drive/MyDrive/IA keras]/Abordagens/personagens_descritores.csv','r')\n",
        "caracteristicas=[]\n",
        "valor=[]\n",
        "resposta=[]\n",
        "for indice,linha in enumerate(csv.reader(dados)):\n",
        "  if indice==0:\n",
        "    caracteristicas = linha\n",
        "  else:\n",
        "    valor.append(linha[0:6])\n",
        "    resposta.append(linha[6])\n",
        "\n"
      ],
      "metadata": {
        "collapsed": true,
        "id": "J5zoVr4Y7Dpf"
      },
      "execution_count": null,
      "outputs": []
    },
    {
      "cell_type": "markdown",
      "source": [
        "#Preparação dos conjuntos de treino\n",
        "2 exercício para abordagem 1:\n",
        "---\n",
        "---\n",
        "\n",
        "Aqui ocorrerá:\n",
        "\n",
        "\n",
        "1.   Separação das respostas e valores\n",
        "2.   Formatação das listas para um tipo fácil para a I.A.\n",
        "3.   Formatação dos valoes da lista valores para uma escala (0,1)\n",
        "4.   Separação das listas (valores e respostas) em treino e teste\n",
        "\n",
        "\n"
      ],
      "metadata": {
        "id": "VYHd0_qXR6w2"
      }
    },
    {
      "cell_type": "code",
      "source": [
        "valor = np.array(valor)\n",
        "valor_escalado=[]\n",
        "\n",
        "valor,resposta = shuffle(valor,resposta)\n",
        "\n",
        "escala = MinMaxScaler(feature_range=(0,1))\n",
        "valores_escalados = escala.fit_transform(valor.reshape(-1,1))\n",
        "\n",
        "valor_escalado=[]\n",
        "itens_lista=[]\n",
        "for i in range(len(valores_escalados)):\n",
        "  itens_lista.append(valores_escalados[i][0])\n",
        "  if (i+1)%6==0 :\n",
        "    valor_escalado.append(itens_lista)\n",
        "    itens_lista=[]\n",
        "\n",
        "valor_escalado = np.array(valor_escalado).reshape((-1,6))\n",
        "\n",
        "\"\"\"resposta\"\"\"\n",
        "classes={\"Bart\":0,\"Homer\":1}\n",
        "resposta_bi = []\n",
        "for i in range(len(resposta)):\n",
        "  resposta_bi.append(classes[resposta[i]])\n",
        "\n",
        "resposta_bi = np.array(resposta_bi)\n",
        "\n",
        "\n",
        "valor_treino,valor_teste,resposta_treino,resposta_teste = train_test_split(valor_escalado,resposta_bi,test_size=0.25)\n",
        "\n",
        "print(len(valor_treino),len(valor_teste))\n",
        "print(resposta_treino,len(resposta_teste))\n",
        "\n"
      ],
      "metadata": {
        "colab": {
          "base_uri": "https://localhost:8080/"
        },
        "collapsed": true,
        "id": "R5bDwy6v_FCX",
        "outputId": "f142f1f4-f445-4368-d4c9-a00ee879a992"
      },
      "execution_count": null,
      "outputs": [
        {
          "output_type": "stream",
          "name": "stdout",
          "text": [
            "219 74\n",
            "[0 1 0 1 1 1 0 1 0 0 0 1 1 0 1 0 0 1 1 1 0 0 1 1 0 0 0 0 1 1 0 1 1 0 0 0 0\n",
            " 0 0 1 0 0 0 0 1 1 1 0 1 0 1 1 0 1 0 0 0 1 0 0 0 0 1 1 1 0 1 1 1 1 1 0 0 1\n",
            " 1 1 1 0 0 1 1 0 0 1 0 1 0 0 1 0 0 1 0 1 0 0 0 0 0 0 0 0 0 1 0 1 0 1 1 0 0\n",
            " 0 1 0 1 1 0 0 0 0 0 0 1 0 1 0 0 1 1 0 0 0 1 1 0 0 0 0 1 0 1 0 1 0 0 0 0 1\n",
            " 0 1 0 1 1 0 0 0 1 1 1 0 1 0 0 0 1 1 1 0 0 0 1 1 0 0 0 1 0 0 0 1 0 1 0 0 0\n",
            " 0 1 1 1 0 1 0 0 0 1 0 0 1 0 0 0 1 0 1 0 0 1 1 0 1 1 0 0 0 0 0 0 0 1] 74\n"
          ]
        }
      ]
    },
    {
      "cell_type": "markdown",
      "source": [
        "#Inicio da I.A. primeira abordagem\n",
        "\n",
        "3 exercício para abordagem 1\n",
        "---\n",
        "---\n",
        "\n",
        "O tipo de rede Neural escolhida para a primeira abordagem vai ser a **Multicamadas Perceptron**:\n",
        "\n",
        "\n",
        "\n",
        "\n",
        "\n",
        "  visto que a abordagem um poderá ocorrer casos onde apenas uma camada não retornará a resposta correta, sendo ncessário mais camadas. e por não ser uma imagem não é necessário a rede convolucional por isso escolhi esse tipo de rede neural.\n",
        "\n",
        "\n",
        "\n",
        "\n",
        "\n",
        "---\n",
        "\n",
        "\n",
        "> A 4 resposta está nos comentários do codigo abaixo\n",
        "\n",
        "\n",
        "\n",
        "\n",
        "\n",
        "\n",
        "\n"
      ],
      "metadata": {
        "id": "hEj72EKuSB7O"
      }
    },
    {
      "cell_type": "code",
      "source": [
        "modelo = Sequential([\n",
        "    Dense(units=6,input_shape=(6,),activation=\"relu\"),\n",
        "    Dense(units=12,activation=\"relu\"),\n",
        "    Dense(units=2,activation=\"softmax\")\n",
        "])\n",
        "\n",
        "# Motivos para a configuração escolhida:\n",
        "#escolhi duas camadas ocultas pois vejo ser um numero bom para que a resposta seja satisfatória sem que ocorre overfitting\n",
        "#quantidade de unidades foi feita por meio dos seguintes parametros:\n",
        "#1 dense total de quantidade da lista de entrada = 6\n",
        "#2 dense quantidade de entrada = 6 e quantidade de saida = 2 (6 * 2 = 12)\n",
        "#dense quantidade de saídas =2\n",
        "\n",
        "\n",
        "modelo.summary()"
      ],
      "metadata": {
        "colab": {
          "base_uri": "https://localhost:8080/"
        },
        "id": "qadcCZMORsce",
        "outputId": "95493c4a-05a2-4a0f-ad05-d5bbcb1e0c02"
      },
      "execution_count": null,
      "outputs": [
        {
          "output_type": "stream",
          "name": "stdout",
          "text": [
            "Model: \"sequential_11\"\n",
            "_________________________________________________________________\n",
            " Layer (type)                Output Shape              Param #   \n",
            "=================================================================\n",
            " dense_34 (Dense)            (None, 6)                 42        \n",
            "                                                                 \n",
            " dense_35 (Dense)            (None, 12)                84        \n",
            "                                                                 \n",
            " dense_36 (Dense)            (None, 2)                 26        \n",
            "                                                                 \n",
            "=================================================================\n",
            "Total params: 152 (608.00 Byte)\n",
            "Trainable params: 152 (608.00 Byte)\n",
            "Non-trainable params: 0 (0.00 Byte)\n",
            "_________________________________________________________________\n"
          ]
        }
      ]
    },
    {
      "cell_type": "code",
      "source": [
        "modelo.compile(optimizer=Adam(learning_rate=0.0001),loss=\"sparse_categorical_crossentropy\",metrics=[\"accuracy\"])"
      ],
      "metadata": {
        "id": "AR8cO6uRU1Ft"
      },
      "execution_count": null,
      "outputs": []
    },
    {
      "cell_type": "markdown",
      "source": [
        "#Treinamento da rede\n",
        "5 exercício\n",
        "\n",
        "___\n",
        "\n",
        "explicação da configuração:\n",
        "\n",
        "1.   x e y são a entrada e rótulos\n",
        "2.   batch = 5 acho batch um numero que acho o suficiente para pegar o melhor resultado.\n",
        "3.   epochs = 120 foi escolhido pelo fato de querer melhorar a acuracia do treinamento da I.A. além de não ser muito treinamento para ocasionar algum overffitng\n",
        "4.   Verbose = 2, escolhido e definido para poder ver com detalhes as informações de cada epoca.\n",
        "\n"
      ],
      "metadata": {
        "id": "EAD8ur-Ac2go"
      }
    },
    {
      "cell_type": "code",
      "source": [
        "modelo.fit(x=valor_treino,y=resposta_treino,batch_size=5,epochs=120,verbose=2)"
      ],
      "metadata": {
        "colab": {
          "base_uri": "https://localhost:8080/"
        },
        "collapsed": true,
        "id": "aRJd6fogckya",
        "outputId": "7028a77c-b89e-4b73-c4c9-ff98bd20cd9e"
      },
      "execution_count": null,
      "outputs": [
        {
          "output_type": "stream",
          "name": "stdout",
          "text": [
            "Epoch 1/120\n",
            "44/44 - 1s - loss: 0.6935 - accuracy: 0.6804 - 1s/epoch - 28ms/step\n",
            "Epoch 2/120\n",
            "44/44 - 0s - loss: 0.6905 - accuracy: 0.6804 - 131ms/epoch - 3ms/step\n",
            "Epoch 3/120\n",
            "44/44 - 0s - loss: 0.6881 - accuracy: 0.6667 - 138ms/epoch - 3ms/step\n",
            "Epoch 4/120\n",
            "44/44 - 0s - loss: 0.6858 - accuracy: 0.6621 - 149ms/epoch - 3ms/step\n",
            "Epoch 5/120\n",
            "44/44 - 0s - loss: 0.6837 - accuracy: 0.6575 - 198ms/epoch - 4ms/step\n",
            "Epoch 6/120\n",
            "44/44 - 0s - loss: 0.6816 - accuracy: 0.6484 - 123ms/epoch - 3ms/step\n",
            "Epoch 7/120\n",
            "44/44 - 0s - loss: 0.6796 - accuracy: 0.6484 - 164ms/epoch - 4ms/step\n",
            "Epoch 8/120\n",
            "44/44 - 0s - loss: 0.6776 - accuracy: 0.6393 - 162ms/epoch - 4ms/step\n",
            "Epoch 9/120\n",
            "44/44 - 0s - loss: 0.6756 - accuracy: 0.6393 - 151ms/epoch - 3ms/step\n",
            "Epoch 10/120\n",
            "44/44 - 0s - loss: 0.6736 - accuracy: 0.6347 - 129ms/epoch - 3ms/step\n",
            "Epoch 11/120\n",
            "44/44 - 0s - loss: 0.6715 - accuracy: 0.6301 - 136ms/epoch - 3ms/step\n",
            "Epoch 12/120\n",
            "44/44 - 0s - loss: 0.6693 - accuracy: 0.6210 - 132ms/epoch - 3ms/step\n",
            "Epoch 13/120\n",
            "44/44 - 0s - loss: 0.6672 - accuracy: 0.6210 - 139ms/epoch - 3ms/step\n",
            "Epoch 14/120\n",
            "44/44 - 0s - loss: 0.6649 - accuracy: 0.6210 - 162ms/epoch - 4ms/step\n",
            "Epoch 15/120\n",
            "44/44 - 0s - loss: 0.6627 - accuracy: 0.6210 - 152ms/epoch - 3ms/step\n",
            "Epoch 16/120\n",
            "44/44 - 0s - loss: 0.6604 - accuracy: 0.6164 - 156ms/epoch - 4ms/step\n",
            "Epoch 17/120\n",
            "44/44 - 0s - loss: 0.6581 - accuracy: 0.6164 - 161ms/epoch - 4ms/step\n",
            "Epoch 18/120\n",
            "44/44 - 0s - loss: 0.6557 - accuracy: 0.6164 - 148ms/epoch - 3ms/step\n",
            "Epoch 19/120\n",
            "44/44 - 0s - loss: 0.6532 - accuracy: 0.6164 - 129ms/epoch - 3ms/step\n",
            "Epoch 20/120\n",
            "44/44 - 0s - loss: 0.6507 - accuracy: 0.6164 - 139ms/epoch - 3ms/step\n",
            "Epoch 21/120\n",
            "44/44 - 0s - loss: 0.6481 - accuracy: 0.6164 - 138ms/epoch - 3ms/step\n",
            "Epoch 22/120\n",
            "44/44 - 0s - loss: 0.6455 - accuracy: 0.6164 - 149ms/epoch - 3ms/step\n",
            "Epoch 23/120\n",
            "44/44 - 0s - loss: 0.6428 - accuracy: 0.6164 - 160ms/epoch - 4ms/step\n",
            "Epoch 24/120\n",
            "44/44 - 0s - loss: 0.6401 - accuracy: 0.6164 - 151ms/epoch - 3ms/step\n",
            "Epoch 25/120\n",
            "44/44 - 0s - loss: 0.6372 - accuracy: 0.6164 - 143ms/epoch - 3ms/step\n",
            "Epoch 26/120\n",
            "44/44 - 0s - loss: 0.6343 - accuracy: 0.6164 - 160ms/epoch - 4ms/step\n",
            "Epoch 27/120\n",
            "44/44 - 0s - loss: 0.6313 - accuracy: 0.6164 - 143ms/epoch - 3ms/step\n",
            "Epoch 28/120\n",
            "44/44 - 0s - loss: 0.6283 - accuracy: 0.6210 - 172ms/epoch - 4ms/step\n",
            "Epoch 29/120\n",
            "44/44 - 0s - loss: 0.6252 - accuracy: 0.6164 - 171ms/epoch - 4ms/step\n",
            "Epoch 30/120\n",
            "44/44 - 0s - loss: 0.6221 - accuracy: 0.6210 - 146ms/epoch - 3ms/step\n",
            "Epoch 31/120\n",
            "44/44 - 0s - loss: 0.6190 - accuracy: 0.6210 - 81ms/epoch - 2ms/step\n",
            "Epoch 32/120\n",
            "44/44 - 0s - loss: 0.6157 - accuracy: 0.6210 - 85ms/epoch - 2ms/step\n",
            "Epoch 33/120\n",
            "44/44 - 0s - loss: 0.6125 - accuracy: 0.6210 - 92ms/epoch - 2ms/step\n",
            "Epoch 34/120\n",
            "44/44 - 0s - loss: 0.6093 - accuracy: 0.6210 - 79ms/epoch - 2ms/step\n",
            "Epoch 35/120\n",
            "44/44 - 0s - loss: 0.6061 - accuracy: 0.6256 - 79ms/epoch - 2ms/step\n",
            "Epoch 36/120\n",
            "44/44 - 0s - loss: 0.6028 - accuracy: 0.6210 - 82ms/epoch - 2ms/step\n",
            "Epoch 37/120\n",
            "44/44 - 0s - loss: 0.5995 - accuracy: 0.6347 - 88ms/epoch - 2ms/step\n",
            "Epoch 38/120\n",
            "44/44 - 0s - loss: 0.5962 - accuracy: 0.6347 - 81ms/epoch - 2ms/step\n",
            "Epoch 39/120\n",
            "44/44 - 0s - loss: 0.5929 - accuracy: 0.6393 - 85ms/epoch - 2ms/step\n",
            "Epoch 40/120\n",
            "44/44 - 0s - loss: 0.5896 - accuracy: 0.6393 - 86ms/epoch - 2ms/step\n",
            "Epoch 41/120\n",
            "44/44 - 0s - loss: 0.5863 - accuracy: 0.6393 - 76ms/epoch - 2ms/step\n",
            "Epoch 42/120\n",
            "44/44 - 0s - loss: 0.5832 - accuracy: 0.6393 - 87ms/epoch - 2ms/step\n",
            "Epoch 43/120\n",
            "44/44 - 0s - loss: 0.5796 - accuracy: 0.6393 - 76ms/epoch - 2ms/step\n",
            "Epoch 44/120\n",
            "44/44 - 0s - loss: 0.5763 - accuracy: 0.6484 - 181ms/epoch - 4ms/step\n",
            "Epoch 45/120\n",
            "44/44 - 0s - loss: 0.5729 - accuracy: 0.6530 - 175ms/epoch - 4ms/step\n",
            "Epoch 46/120\n",
            "44/44 - 0s - loss: 0.5695 - accuracy: 0.6530 - 197ms/epoch - 4ms/step\n",
            "Epoch 47/120\n",
            "44/44 - 0s - loss: 0.5662 - accuracy: 0.6530 - 175ms/epoch - 4ms/step\n",
            "Epoch 48/120\n",
            "44/44 - 0s - loss: 0.5628 - accuracy: 0.6530 - 158ms/epoch - 4ms/step\n",
            "Epoch 49/120\n",
            "44/44 - 0s - loss: 0.5596 - accuracy: 0.6530 - 163ms/epoch - 4ms/step\n",
            "Epoch 50/120\n",
            "44/44 - 0s - loss: 0.5560 - accuracy: 0.6575 - 258ms/epoch - 6ms/step\n",
            "Epoch 51/120\n",
            "44/44 - 0s - loss: 0.5526 - accuracy: 0.6621 - 213ms/epoch - 5ms/step\n",
            "Epoch 52/120\n",
            "44/44 - 0s - loss: 0.5493 - accuracy: 0.6667 - 184ms/epoch - 4ms/step\n",
            "Epoch 53/120\n",
            "44/44 - 0s - loss: 0.5459 - accuracy: 0.6667 - 140ms/epoch - 3ms/step\n",
            "Epoch 54/120\n",
            "44/44 - 0s - loss: 0.5426 - accuracy: 0.6667 - 212ms/epoch - 5ms/step\n",
            "Epoch 55/120\n",
            "44/44 - 0s - loss: 0.5391 - accuracy: 0.6895 - 258ms/epoch - 6ms/step\n",
            "Epoch 56/120\n",
            "44/44 - 0s - loss: 0.5360 - accuracy: 0.6986 - 166ms/epoch - 4ms/step\n",
            "Epoch 57/120\n",
            "44/44 - 0s - loss: 0.5324 - accuracy: 0.7032 - 137ms/epoch - 3ms/step\n",
            "Epoch 58/120\n",
            "44/44 - 0s - loss: 0.5290 - accuracy: 0.7078 - 141ms/epoch - 3ms/step\n",
            "Epoch 59/120\n",
            "44/44 - 0s - loss: 0.5257 - accuracy: 0.7078 - 185ms/epoch - 4ms/step\n",
            "Epoch 60/120\n",
            "44/44 - 0s - loss: 0.5222 - accuracy: 0.7123 - 177ms/epoch - 4ms/step\n",
            "Epoch 61/120\n",
            "44/44 - 0s - loss: 0.5190 - accuracy: 0.7260 - 158ms/epoch - 4ms/step\n",
            "Epoch 62/120\n",
            "44/44 - 0s - loss: 0.5156 - accuracy: 0.7352 - 143ms/epoch - 3ms/step\n",
            "Epoch 63/120\n",
            "44/44 - 0s - loss: 0.5122 - accuracy: 0.7534 - 152ms/epoch - 3ms/step\n",
            "Epoch 64/120\n",
            "44/44 - 0s - loss: 0.5092 - accuracy: 0.7580 - 143ms/epoch - 3ms/step\n",
            "Epoch 65/120\n",
            "44/44 - 0s - loss: 0.5056 - accuracy: 0.7717 - 173ms/epoch - 4ms/step\n",
            "Epoch 66/120\n",
            "44/44 - 0s - loss: 0.5024 - accuracy: 0.7717 - 175ms/epoch - 4ms/step\n",
            "Epoch 67/120\n",
            "44/44 - 0s - loss: 0.4991 - accuracy: 0.7763 - 194ms/epoch - 4ms/step\n",
            "Epoch 68/120\n",
            "44/44 - 0s - loss: 0.4959 - accuracy: 0.7854 - 195ms/epoch - 4ms/step\n",
            "Epoch 69/120\n",
            "44/44 - 0s - loss: 0.4926 - accuracy: 0.7991 - 193ms/epoch - 4ms/step\n",
            "Epoch 70/120\n",
            "44/44 - 0s - loss: 0.4893 - accuracy: 0.8037 - 149ms/epoch - 3ms/step\n",
            "Epoch 71/120\n",
            "44/44 - 0s - loss: 0.4863 - accuracy: 0.8037 - 256ms/epoch - 6ms/step\n",
            "Epoch 72/120\n",
            "44/44 - 0s - loss: 0.4831 - accuracy: 0.8082 - 314ms/epoch - 7ms/step\n",
            "Epoch 73/120\n",
            "44/44 - 0s - loss: 0.4798 - accuracy: 0.8128 - 180ms/epoch - 4ms/step\n",
            "Epoch 74/120\n",
            "44/44 - 0s - loss: 0.4768 - accuracy: 0.8311 - 171ms/epoch - 4ms/step\n",
            "Epoch 75/120\n",
            "44/44 - 0s - loss: 0.4737 - accuracy: 0.8356 - 124ms/epoch - 3ms/step\n",
            "Epoch 76/120\n",
            "44/44 - 0s - loss: 0.4706 - accuracy: 0.8402 - 84ms/epoch - 2ms/step\n",
            "Epoch 77/120\n",
            "44/44 - 0s - loss: 0.4677 - accuracy: 0.8402 - 71ms/epoch - 2ms/step\n",
            "Epoch 78/120\n",
            "44/44 - 0s - loss: 0.4647 - accuracy: 0.8447 - 76ms/epoch - 2ms/step\n",
            "Epoch 79/120\n",
            "44/44 - 0s - loss: 0.4618 - accuracy: 0.8493 - 88ms/epoch - 2ms/step\n",
            "Epoch 80/120\n",
            "44/44 - 0s - loss: 0.4588 - accuracy: 0.8539 - 85ms/epoch - 2ms/step\n",
            "Epoch 81/120\n",
            "44/44 - 0s - loss: 0.4558 - accuracy: 0.8539 - 84ms/epoch - 2ms/step\n",
            "Epoch 82/120\n",
            "44/44 - 0s - loss: 0.4530 - accuracy: 0.8539 - 83ms/epoch - 2ms/step\n",
            "Epoch 83/120\n",
            "44/44 - 0s - loss: 0.4501 - accuracy: 0.8584 - 79ms/epoch - 2ms/step\n",
            "Epoch 84/120\n",
            "44/44 - 0s - loss: 0.4471 - accuracy: 0.8630 - 85ms/epoch - 2ms/step\n",
            "Epoch 85/120\n",
            "44/44 - 0s - loss: 0.4443 - accuracy: 0.8630 - 72ms/epoch - 2ms/step\n",
            "Epoch 86/120\n",
            "44/44 - 0s - loss: 0.4414 - accuracy: 0.8630 - 72ms/epoch - 2ms/step\n",
            "Epoch 87/120\n",
            "44/44 - 0s - loss: 0.4387 - accuracy: 0.8630 - 75ms/epoch - 2ms/step\n",
            "Epoch 88/120\n",
            "44/44 - 0s - loss: 0.4358 - accuracy: 0.8630 - 84ms/epoch - 2ms/step\n",
            "Epoch 89/120\n",
            "44/44 - 0s - loss: 0.4332 - accuracy: 0.8630 - 72ms/epoch - 2ms/step\n",
            "Epoch 90/120\n",
            "44/44 - 0s - loss: 0.4305 - accuracy: 0.8630 - 76ms/epoch - 2ms/step\n",
            "Epoch 91/120\n",
            "44/44 - 0s - loss: 0.4279 - accuracy: 0.8676 - 100ms/epoch - 2ms/step\n",
            "Epoch 92/120\n",
            "44/44 - 0s - loss: 0.4253 - accuracy: 0.8676 - 74ms/epoch - 2ms/step\n",
            "Epoch 93/120\n",
            "44/44 - 0s - loss: 0.4226 - accuracy: 0.8676 - 75ms/epoch - 2ms/step\n",
            "Epoch 94/120\n",
            "44/44 - 0s - loss: 0.4201 - accuracy: 0.8676 - 78ms/epoch - 2ms/step\n",
            "Epoch 95/120\n",
            "44/44 - 0s - loss: 0.4176 - accuracy: 0.8676 - 74ms/epoch - 2ms/step\n",
            "Epoch 96/120\n",
            "44/44 - 0s - loss: 0.4153 - accuracy: 0.8676 - 74ms/epoch - 2ms/step\n",
            "Epoch 97/120\n",
            "44/44 - 0s - loss: 0.4126 - accuracy: 0.8676 - 74ms/epoch - 2ms/step\n",
            "Epoch 98/120\n",
            "44/44 - 0s - loss: 0.4105 - accuracy: 0.8676 - 73ms/epoch - 2ms/step\n",
            "Epoch 99/120\n",
            "44/44 - 0s - loss: 0.4077 - accuracy: 0.8676 - 79ms/epoch - 2ms/step\n",
            "Epoch 100/120\n",
            "44/44 - 0s - loss: 0.4054 - accuracy: 0.8676 - 76ms/epoch - 2ms/step\n",
            "Epoch 101/120\n",
            "44/44 - 0s - loss: 0.4032 - accuracy: 0.8676 - 71ms/epoch - 2ms/step\n",
            "Epoch 102/120\n",
            "44/44 - 0s - loss: 0.4008 - accuracy: 0.8721 - 85ms/epoch - 2ms/step\n",
            "Epoch 103/120\n",
            "44/44 - 0s - loss: 0.3985 - accuracy: 0.8721 - 70ms/epoch - 2ms/step\n",
            "Epoch 104/120\n",
            "44/44 - 0s - loss: 0.3963 - accuracy: 0.8721 - 102ms/epoch - 2ms/step\n",
            "Epoch 105/120\n",
            "44/44 - 0s - loss: 0.3939 - accuracy: 0.8721 - 81ms/epoch - 2ms/step\n",
            "Epoch 106/120\n",
            "44/44 - 0s - loss: 0.3918 - accuracy: 0.8721 - 76ms/epoch - 2ms/step\n",
            "Epoch 107/120\n",
            "44/44 - 0s - loss: 0.3893 - accuracy: 0.8721 - 109ms/epoch - 2ms/step\n",
            "Epoch 108/120\n",
            "44/44 - 0s - loss: 0.3871 - accuracy: 0.8721 - 133ms/epoch - 3ms/step\n",
            "Epoch 109/120\n",
            "44/44 - 0s - loss: 0.3849 - accuracy: 0.8721 - 128ms/epoch - 3ms/step\n",
            "Epoch 110/120\n",
            "44/44 - 0s - loss: 0.3828 - accuracy: 0.8721 - 140ms/epoch - 3ms/step\n",
            "Epoch 111/120\n",
            "44/44 - 0s - loss: 0.3807 - accuracy: 0.8721 - 124ms/epoch - 3ms/step\n",
            "Epoch 112/120\n",
            "44/44 - 0s - loss: 0.3785 - accuracy: 0.8813 - 127ms/epoch - 3ms/step\n",
            "Epoch 113/120\n",
            "44/44 - 0s - loss: 0.3765 - accuracy: 0.8767 - 151ms/epoch - 3ms/step\n",
            "Epoch 114/120\n",
            "44/44 - 0s - loss: 0.3744 - accuracy: 0.8813 - 123ms/epoch - 3ms/step\n",
            "Epoch 115/120\n",
            "44/44 - 0s - loss: 0.3723 - accuracy: 0.8813 - 127ms/epoch - 3ms/step\n",
            "Epoch 116/120\n",
            "44/44 - 0s - loss: 0.3701 - accuracy: 0.8813 - 133ms/epoch - 3ms/step\n",
            "Epoch 117/120\n",
            "44/44 - 0s - loss: 0.3682 - accuracy: 0.8813 - 147ms/epoch - 3ms/step\n",
            "Epoch 118/120\n",
            "44/44 - 0s - loss: 0.3664 - accuracy: 0.8813 - 137ms/epoch - 3ms/step\n",
            "Epoch 119/120\n",
            "44/44 - 0s - loss: 0.3641 - accuracy: 0.8858 - 144ms/epoch - 3ms/step\n",
            "Epoch 120/120\n",
            "44/44 - 0s - loss: 0.3622 - accuracy: 0.8858 - 177ms/epoch - 4ms/step\n"
          ]
        },
        {
          "output_type": "execute_result",
          "data": {
            "text/plain": [
              "<keras.src.callbacks.History at 0x7876efaa9f60>"
            ]
          },
          "metadata": {},
          "execution_count": 255
        }
      ]
    },
    {
      "cell_type": "markdown",
      "source": [
        "#Teste da I.A. da abordagem 1\n",
        "\n",
        "6 exercício\n",
        "---\n",
        "___\n",
        "\n",
        "a acuracia da I.A. foi de 85%\n",
        "\n",
        "e sua matriz de confusão foi:\n",
        "\n",
        "[[40  0]\n",
        "\n",
        "[11 23]]"
      ],
      "metadata": {
        "id": "nLjqE7RnrOYs"
      }
    },
    {
      "cell_type": "code",
      "source": [
        "resultado = modelo.predict(x=valor_teste,batch_size=10,verbose=0)\n",
        "resultado = np.argmax(resultado,axis=1)\n",
        "cm = confusion_matrix(y_true=resposta_teste,y_pred=resultado)\n",
        "print(f\"Acurácia: {(cm[0][0]+cm[1][1])/len(resposta_teste)}\")\n",
        "print(cm)\n",
        "sns.heatmap(cm,cmap=\"coolwarm\",annot=True,linewidth=1,fmt=\"d\")\n",
        "plt.show()\n"
      ],
      "metadata": {
        "colab": {
          "base_uri": "https://localhost:8080/",
          "height": 487
        },
        "id": "_BuZON9erRRF",
        "outputId": "bc20ce5a-7854-45e9-ba65-8b05ce743e4c"
      },
      "execution_count": null,
      "outputs": [
        {
          "output_type": "stream",
          "name": "stdout",
          "text": [
            "Acurácia: 0.8513513513513513\n",
            "[[40  0]\n",
            " [11 23]]\n"
          ]
        },
        {
          "output_type": "display_data",
          "data": {
            "text/plain": [
              "<Figure size 640x480 with 2 Axes>"
            ],
            "image/png": "[encoded data removed]"
          },
          "metadata": {}
        }
      ]
    },
    {
      "cell_type": "markdown",
      "source": [
        "#2 abordagem"
      ],
      "metadata": {
        "id": "ZngCsSuQyPJq"
      }
    },
    {
      "cell_type": "code",
      "source": [
        "import numpy as np\n",
        "from PIL import Image as IMG\n",
        "from keras.models import Sequential\n",
        "from keras.layers import Dense, Flatten, Conv2D, MaxPooling2D, Dropout, BatchNormalization\n",
        "from keras.utils import to_categorical\n",
        "from sklearn.metrics import confusion_matrix\n",
        "import seaborn as sns\n",
        "import matplotlib.pyplot as plt\n",
        "import os"
      ],
      "metadata": {
        "id": "_IcvDAA46fgK"
      },
      "execution_count": null,
      "outputs": []
    },
    {
      "cell_type": "markdown",
      "source": [
        "2 exercício\n",
        "_____\n",
        "Nessa parte fiz a preparação dos dados fiz 2 listas uma contendo todas as imagens do homer e bart, para treino e teste e fiz 2 listas contendo as respostas para cada dado. As respostas sendo passadas para binario."
      ],
      "metadata": {
        "id": "sWNjqG-D5NZX"
      }
    },
    {
      "cell_type": "code",
      "source": [
        "diretorioTest = \"/content/drive/MyDrive/IA keras]/Abordagens/dataset_personagens_imagens/dataset_personagens/test_set\"\n",
        "diretorioTrain = \"/content/drive/MyDrive/IA keras]/Abordagens/dataset_personagens_imagens/dataset_personagens/training_set\"\n",
        "\n",
        "\n",
        "categoria=[\"bart\",\"homer\"]\n",
        "\n",
        "arquivosTest =[]\n",
        "respostaTest=[]\n",
        "arquivosTrain=[]\n",
        "respostaTrain=[]\n",
        "\n",
        "arquivosTest += (os.listdir(diretorioTest+\"/bart\"))[:]\n",
        "respostaTest += ([0] * len(os.listdir(diretorioTest+\"/bart\")))\n",
        "arquivosTest += (os.listdir(diretorioTest+\"/homer\"))[:]\n",
        "respostaTest += ([1] * len(os.listdir(diretorioTest+\"/homer\")))\n",
        "\n",
        "arquivosTrain += (os.listdir(diretorioTrain+\"/bart\"))[:]\n",
        "respostaTrain += ([0] * len(os.listdir(diretorioTrain+\"/bart\")))\n",
        "arquivosTrain += (os.listdir(diretorioTrain+\"/homer\"))[:]\n",
        "respostaTrain += ([1] * len(os.listdir(diretorioTrain+\"/homer\")))\n"
      ],
      "metadata": {
        "id": "fLkOSHub7Br8"
      },
      "execution_count": null,
      "outputs": []
    },
    {
      "cell_type": "markdown",
      "source": [
        "2 exercício\n",
        "____\n",
        "fiz a formatação das imagens para um dado que a I.A. consiga entender"
      ],
      "metadata": {
        "id": "gwIA0_ia5m9_"
      }
    },
    {
      "cell_type": "code",
      "source": [
        "Treino=[]\n",
        "Teste=[]\n",
        "entrada=\"/bart/\"\n",
        "for i in range(len(arquivosTest)):\n",
        "  if (arquivosTest[i][0:4]!=\"bart\"):\n",
        "    entrada=\"/homer/\"\n",
        "  Imagem = IMG.open(diretorioTest+entrada+arquivosTest[i]).convert(\"L\")\n",
        "  Imagem = Imagem.resize((64,64))\n",
        "  Imagem = np.array(Imagem)/255.0\n",
        "  Teste.append(Imagem)\n",
        "\n",
        "entrada =\"/bart/\"\n",
        "for i in range(len(arquivosTrain)):\n",
        "  if (arquivosTrain[i][0:4]!=\"bart\"):\n",
        "    entrada = \"/homer/\"\n",
        "  Imagem = IMG.open(diretorioTrain+entrada+arquivosTrain[i]).convert(\"L\")\n",
        "  Imagem = Imagem.resize((64,64))\n",
        "  Imagem = np.array(Imagem)/255.0\n",
        "  Treino.append(Imagem)\n",
        "\n",
        "Treino,respostaTrain = shuffle(Treino,respostaTrain)\n",
        "\n",
        "Treino = np.array(Treino)\n",
        "Teste = np.array(Teste)\n",
        "respostaTrain = np.array(respostaTrain)\n",
        "respostaTest = np.array(respostaTest)\n",
        "\n",
        "\n"
      ],
      "metadata": {
        "id": "rnyr8wFqF04b"
      },
      "execution_count": null,
      "outputs": []
    },
    {
      "cell_type": "markdown",
      "source": [
        "#Preparando a I.A.\n",
        "___\n",
        "3 exercício\n",
        "---\n",
        "O tipo de rede Neural escolhida para a segunda abordagem vai ser a convolucional:\n",
        "\n",
        "Como a I.A. vai trabalhar com imagens, então é necessário que ocorra uma preparação da imagem para que a I.A. possa dar respostas satisfatórias\n",
        "\n",
        "____\n",
        "4 exercício\n",
        "---\n",
        "Motivos para a configuração escolhida:\n",
        "\n",
        "Na parte convolucional fiz 2 etapas de tratamento das imagens escolhi 64,64,1 por causa do tamanho que foi decidido para todas as imagens.\n",
        "Após a vetorização dos dados, escolhi duas camadas ocultas pois após testes verifiqueei que era a que resultava em melhores resultados da I.A.\n",
        "\n",
        "O compiler escolhi a metrica para binário visto que as respostas só podem ser 2 \"bart\" ou \"homer\"\n",
        "___\n",
        "5 exercício\n",
        "---\n",
        "explicação da configuração:\n",
        "\n",
        "x e y são a entrada e rótulos\n",
        "batch = 15 acho batch um numero que acho o suficiente para pegar o melhor resultado.\n",
        "\n",
        "epochs = 70 foi escolhido após diversos testes para encontrar o melhor numero que evitasse overfitting, chegando no 70 como sendo a epoca que ocasionava menos desse problema\n",
        "\n",
        "Verbose = 2, escolhido e definido para poder ver com detalhes as informações de cada epoca."
      ],
      "metadata": {
        "id": "ahg3SAKtCnHl"
      }
    },
    {
      "cell_type": "code",
      "source": [
        "modeloCnn = Sequential([\n",
        "    Conv2D(32,(3,3),input_shape=(64,64,1),activation=\"relu\"),\n",
        "    BatchNormalization(),\n",
        "    MaxPooling2D(pool_size=(2,2)),\n",
        "    Conv2D(32,(3,3),activation=\"relu\"),\n",
        "    BatchNormalization(),\n",
        "    MaxPooling2D(pool_size=(2,2)),\n",
        "    Flatten(),\n",
        "\n",
        "    Dense(64,activation='relu'),\n",
        "    Dropout(0.2),\n",
        "    Dense(64,activation='relu'),\n",
        "    Dropout(0.2),\n",
        "    Dense(2,activation=\"softmax\")\n",
        "])\n",
        "\n",
        "modeloCnn.compile(optimizer = \"adam\",loss=\"sparse_categorical_crossentropy\",metrics=[\"accuracy\"])\n",
        "\n",
        "modeloCnn.fit(x=Treino,y=respostaTrain,batch_size=15,epochs=70,verbose=2)"
      ],
      "metadata": {
        "colab": {
          "base_uri": "https://localhost:8080/"
        },
        "id": "1-hPaJ49CrC8",
        "outputId": "2a49fb93-2007-4014-e992-b7922e4bd946"
      },
      "execution_count": null,
      "outputs": [
        {
          "output_type": "stream",
          "name": "stdout",
          "text": [
            "Epoch 1/70\n",
            "14/14 - 2s - loss: 1.3583 - accuracy: 0.5102 - 2s/epoch - 177ms/step\n",
            "Epoch 2/70\n",
            "14/14 - 1s - loss: 0.8608 - accuracy: 0.6633 - 1s/epoch - 103ms/step\n",
            "Epoch 3/70\n",
            "14/14 - 1s - loss: 0.5065 - accuracy: 0.7500 - 1s/epoch - 101ms/step\n",
            "Epoch 4/70\n",
            "14/14 - 1s - loss: 0.4293 - accuracy: 0.8214 - 1s/epoch - 106ms/step\n",
            "Epoch 5/70\n",
            "14/14 - 1s - loss: 0.2763 - accuracy: 0.8520 - 1s/epoch - 79ms/step\n",
            "Epoch 6/70\n",
            "14/14 - 1s - loss: 0.2582 - accuracy: 0.8469 - 852ms/epoch - 61ms/step\n",
            "Epoch 7/70\n",
            "14/14 - 1s - loss: 0.2299 - accuracy: 0.9235 - 862ms/epoch - 62ms/step\n",
            "Epoch 8/70\n",
            "14/14 - 1s - loss: 0.1532 - accuracy: 0.9439 - 834ms/epoch - 60ms/step\n",
            "Epoch 9/70\n",
            "14/14 - 1s - loss: 0.1433 - accuracy: 0.9592 - 853ms/epoch - 61ms/step\n",
            "Epoch 10/70\n",
            "14/14 - 1s - loss: 0.0969 - accuracy: 0.9643 - 838ms/epoch - 60ms/step\n",
            "Epoch 11/70\n",
            "14/14 - 1s - loss: 0.0714 - accuracy: 0.9694 - 840ms/epoch - 60ms/step\n",
            "Epoch 12/70\n",
            "14/14 - 1s - loss: 0.0690 - accuracy: 0.9643 - 1s/epoch - 77ms/step\n",
            "Epoch 13/70\n",
            "14/14 - 1s - loss: 0.0372 - accuracy: 0.9898 - 880ms/epoch - 63ms/step\n",
            "Epoch 14/70\n",
            "14/14 - 1s - loss: 0.0738 - accuracy: 0.9643 - 849ms/epoch - 61ms/step\n",
            "Epoch 15/70\n",
            "14/14 - 1s - loss: 0.1008 - accuracy: 0.9643 - 858ms/epoch - 61ms/step\n",
            "Epoch 16/70\n",
            "14/14 - 1s - loss: 0.0512 - accuracy: 0.9898 - 942ms/epoch - 67ms/step\n",
            "Epoch 17/70\n",
            "14/14 - 1s - loss: 0.0670 - accuracy: 0.9796 - 1s/epoch - 102ms/step\n",
            "Epoch 18/70\n",
            "14/14 - 1s - loss: 0.0242 - accuracy: 0.9949 - 1s/epoch - 104ms/step\n",
            "Epoch 19/70\n",
            "14/14 - 1s - loss: 0.0397 - accuracy: 0.9847 - 1s/epoch - 102ms/step\n",
            "Epoch 20/70\n",
            "14/14 - 1s - loss: 0.0173 - accuracy: 1.0000 - 1s/epoch - 87ms/step\n",
            "Epoch 21/70\n",
            "14/14 - 1s - loss: 0.0069 - accuracy: 1.0000 - 850ms/epoch - 61ms/step\n",
            "Epoch 22/70\n",
            "14/14 - 1s - loss: 0.0375 - accuracy: 0.9847 - 855ms/epoch - 61ms/step\n",
            "Epoch 23/70\n",
            "14/14 - 1s - loss: 0.0206 - accuracy: 0.9898 - 849ms/epoch - 61ms/step\n",
            "Epoch 24/70\n",
            "14/14 - 1s - loss: 0.0147 - accuracy: 0.9949 - 856ms/epoch - 61ms/step\n",
            "Epoch 25/70\n",
            "14/14 - 1s - loss: 0.0128 - accuracy: 0.9949 - 869ms/epoch - 62ms/step\n",
            "Epoch 26/70\n",
            "14/14 - 1s - loss: 0.0050 - accuracy: 1.0000 - 865ms/epoch - 62ms/step\n",
            "Epoch 27/70\n",
            "14/14 - 1s - loss: 0.0154 - accuracy: 0.9898 - 861ms/epoch - 62ms/step\n",
            "Epoch 28/70\n",
            "14/14 - 1s - loss: 0.0215 - accuracy: 0.9949 - 856ms/epoch - 61ms/step\n",
            "Epoch 29/70\n",
            "14/14 - 1s - loss: 0.0662 - accuracy: 0.9796 - 852ms/epoch - 61ms/step\n",
            "Epoch 30/70\n",
            "14/14 - 1s - loss: 0.0977 - accuracy: 0.9592 - 854ms/epoch - 61ms/step\n",
            "Epoch 31/70\n",
            "14/14 - 1s - loss: 0.1879 - accuracy: 0.9490 - 856ms/epoch - 61ms/step\n",
            "Epoch 32/70\n",
            "14/14 - 1s - loss: 0.1003 - accuracy: 0.9439 - 1s/epoch - 91ms/step\n",
            "Epoch 33/70\n",
            "14/14 - 1s - loss: 0.0843 - accuracy: 0.9592 - 1s/epoch - 100ms/step\n",
            "Epoch 34/70\n",
            "14/14 - 1s - loss: 0.0544 - accuracy: 0.9847 - 1s/epoch - 103ms/step\n",
            "Epoch 35/70\n",
            "14/14 - 1s - loss: 0.2360 - accuracy: 0.9541 - 1s/epoch - 107ms/step\n",
            "Epoch 36/70\n",
            "14/14 - 1s - loss: 0.1494 - accuracy: 0.9490 - 853ms/epoch - 61ms/step\n",
            "Epoch 37/70\n",
            "14/14 - 1s - loss: 0.0822 - accuracy: 0.9643 - 850ms/epoch - 61ms/step\n",
            "Epoch 38/70\n",
            "14/14 - 1s - loss: 0.0773 - accuracy: 0.9745 - 864ms/epoch - 62ms/step\n",
            "Epoch 39/70\n",
            "14/14 - 1s - loss: 0.0963 - accuracy: 0.9694 - 859ms/epoch - 61ms/step\n",
            "Epoch 40/70\n",
            "14/14 - 1s - loss: 0.0413 - accuracy: 0.9949 - 863ms/epoch - 62ms/step\n",
            "Epoch 41/70\n",
            "14/14 - 1s - loss: 0.0304 - accuracy: 0.9949 - 840ms/epoch - 60ms/step\n",
            "Epoch 42/70\n",
            "14/14 - 1s - loss: 0.0103 - accuracy: 0.9949 - 881ms/epoch - 63ms/step\n",
            "Epoch 43/70\n",
            "14/14 - 1s - loss: 0.0155 - accuracy: 0.9898 - 835ms/epoch - 60ms/step\n",
            "Epoch 44/70\n",
            "14/14 - 1s - loss: 0.0236 - accuracy: 0.9949 - 848ms/epoch - 61ms/step\n",
            "Epoch 45/70\n",
            "14/14 - 1s - loss: 0.0140 - accuracy: 0.9949 - 858ms/epoch - 61ms/step\n",
            "Epoch 46/70\n",
            "14/14 - 1s - loss: 0.0130 - accuracy: 0.9949 - 865ms/epoch - 62ms/step\n",
            "Epoch 47/70\n",
            "14/14 - 1s - loss: 0.0311 - accuracy: 0.9949 - 1s/epoch - 75ms/step\n",
            "Epoch 48/70\n",
            "14/14 - 1s - loss: 0.0022 - accuracy: 1.0000 - 1s/epoch - 102ms/step\n",
            "Epoch 49/70\n",
            "14/14 - 1s - loss: 0.0249 - accuracy: 0.9898 - 1s/epoch - 107ms/step\n",
            "Epoch 50/70\n",
            "14/14 - 2s - loss: 0.0016 - accuracy: 1.0000 - 2s/epoch - 119ms/step\n",
            "Epoch 51/70\n",
            "14/14 - 2s - loss: 0.0241 - accuracy: 0.9898 - 2s/epoch - 120ms/step\n",
            "Epoch 52/70\n",
            "14/14 - 2s - loss: 0.0151 - accuracy: 0.9898 - 2s/epoch - 110ms/step\n",
            "Epoch 53/70\n",
            "14/14 - 2s - loss: 0.0129 - accuracy: 0.9949 - 2s/epoch - 110ms/step\n",
            "Epoch 54/70\n",
            "14/14 - 1s - loss: 0.0035 - accuracy: 1.0000 - 903ms/epoch - 64ms/step\n",
            "Epoch 55/70\n",
            "14/14 - 1s - loss: 0.0207 - accuracy: 0.9949 - 867ms/epoch - 62ms/step\n",
            "Epoch 56/70\n",
            "14/14 - 1s - loss: 0.0242 - accuracy: 0.9949 - 846ms/epoch - 60ms/step\n",
            "Epoch 57/70\n",
            "14/14 - 1s - loss: 0.0351 - accuracy: 0.9949 - 867ms/epoch - 62ms/step\n",
            "Epoch 58/70\n",
            "14/14 - 1s - loss: 0.0121 - accuracy: 0.9949 - 845ms/epoch - 60ms/step\n",
            "Epoch 59/70\n",
            "14/14 - 1s - loss: 0.0058 - accuracy: 0.9949 - 848ms/epoch - 61ms/step\n",
            "Epoch 60/70\n",
            "14/14 - 1s - loss: 0.0095 - accuracy: 0.9949 - 854ms/epoch - 61ms/step\n",
            "Epoch 61/70\n",
            "14/14 - 1s - loss: 0.0054 - accuracy: 1.0000 - 1s/epoch - 71ms/step\n",
            "Epoch 62/70\n",
            "14/14 - 1s - loss: 0.0101 - accuracy: 0.9949 - 1s/epoch - 106ms/step\n",
            "Epoch 63/70\n",
            "14/14 - 1s - loss: 0.0078 - accuracy: 0.9949 - 1s/epoch - 102ms/step\n",
            "Epoch 64/70\n",
            "14/14 - 1s - loss: 0.0054 - accuracy: 1.0000 - 1s/epoch - 100ms/step\n",
            "Epoch 65/70\n",
            "14/14 - 1s - loss: 0.0021 - accuracy: 1.0000 - 1s/epoch - 86ms/step\n",
            "Epoch 66/70\n",
            "14/14 - 1s - loss: 0.0023 - accuracy: 1.0000 - 870ms/epoch - 62ms/step\n",
            "Epoch 67/70\n",
            "14/14 - 1s - loss: 0.0202 - accuracy: 0.9898 - 828ms/epoch - 59ms/step\n",
            "Epoch 68/70\n",
            "14/14 - 1s - loss: 0.0024 - accuracy: 1.0000 - 842ms/epoch - 60ms/step\n",
            "Epoch 69/70\n",
            "14/14 - 1s - loss: 0.0115 - accuracy: 0.9898 - 857ms/epoch - 61ms/step\n",
            "Epoch 70/70\n",
            "14/14 - 1s - loss: 0.0110 - accuracy: 0.9898 - 847ms/epoch - 61ms/step\n"
          ]
        },
        {
          "output_type": "execute_result",
          "data": {
            "text/plain": [
              "<keras.src.callbacks.History at 0x7feb43125660>"
            ]
          },
          "metadata": {},
          "execution_count": 68
        }
      ]
    },
    {
      "cell_type": "markdown",
      "source": [
        "6 exercício\n",
        "---\n",
        "a acuracia da I.A. foi de 46%\n",
        "\n",
        "> porém consegui chegar no maximo de 52%\n",
        "\n",
        "\n",
        "\n",
        "e sua matriz de confusão foi:\n",
        "\n",
        "[[22 20]\n",
        "\n",
        "[19 12]]"
      ],
      "metadata": {
        "id": "-6bxaYWC7zy_"
      }
    },
    {
      "cell_type": "code",
      "source": [
        "predicao = modeloCnn.predict(x=Teste,batch_size=10,verbose=0)\n",
        "predicao = np.argmax(predicao,axis=1)\n",
        "cm = confusion_matrix(y_true=respostaTest,y_pred=predicao)\n",
        "print(f\"Acurácia: {(cm[0][0]+cm[1][1])/len(respostaTest)}\")\n",
        "print(cm)\n",
        "sns.heatmap(cm,cmap=\"coolwarm\",annot=True,linewidth=1,fmt=\"d\")\n",
        "plt.show()"
      ],
      "metadata": {
        "colab": {
          "base_uri": "https://localhost:8080/",
          "height": 487
        },
        "id": "uuMKYRjfaX_U",
        "outputId": "df2d0cdb-eec7-49bc-cffd-52f02b70c3bf"
      },
      "execution_count": null,
      "outputs": [
        {
          "output_type": "stream",
          "name": "stdout",
          "text": [
            "Acurácia: 0.4657534246575342\n",
            "[[22 20]\n",
            " [19 12]]\n"
          ]
        },
        {
          "output_type": "display_data",
          "data": {
            "text/plain": [
              "<Figure size 640x480 with 2 Axes>"
            ],
            "image/png": "[encoded data removed]"
          },
          "metadata": {}
        }
      ]
    },
    {
      "cell_type": "markdown",
      "source": [
        "#6 EXERCÍCIO\n",
        "\n",
        "comentando resultados\n",
        "---\n",
        "\n",
        "Percebi que a I.A. da primeira abordagem resultou em uma acurácia melhor que a obtida pela 2 abordagem, com a primeira tendo 85% e  a segunda com o seu maximo sendo 52%(nesse exemplo eu acabei conseguindo menos 46% do que eu tinha conseguido anteriormente). Acredito que provavelmente possa ser devido a alguma necessidade maior de mais fotos para poder assim dar bons resultados da segunda abordagem.\n",
        "\n",
        "Pros:\n",
        "\n",
        "\n",
        "*   1 abordagem:\n",
        "    \n",
        "    A primeira abordagem demonstrou resultados melhores do que a segunda, acredito porque vc já entrega os valores prontos para a I.A. e só a deixa trabalhar.\n",
        "\n",
        "    .\n",
        "\n",
        "*   2 abordagem:\n",
        "    \n",
        "    A segunda abordagem é mais dinamica e independente, pois você não precisa passar o numero de cada caracteristica para a I.A. pois a mesma por meio de sua propria estrutura já encontra as caracteristicas de cada foto.\n",
        "\n",
        "\n",
        "Contras:\n",
        "\n",
        "\n",
        "*   1 abordagem:\n",
        "   \n",
        "    A primeira abordagem você precisaria ter dados que já deixassem explicito o valor de cada caracteristica limitando bastante a variedade de dados que poderiam ser usados para a I.A.\n",
        "\n",
        "    .\n",
        "\n",
        "*   2 abordagem:\n",
        "\n",
        "    A segunda abordagem por conta de vc deixar a cargo da I.A. encontrar as diferenças e caracteristicas unicas de cada individuo, acaba se criando uma necessidade de mais dados de entrada, se comparado com a primeira.\n",
        "\n",
        "\n",
        "\n"
      ],
      "metadata": {
        "id": "Y2eXLZDn8Gcu"
      }
    }
  ]
}